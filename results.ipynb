{
 "cells": [
  {
   "cell_type": "markdown",
   "metadata": {},
   "source": [
    "# Reassessing Fairness: A Reproducibility Study of NIFA’s Impact on GNN Models - Results Notebook\n",
    "## Requirements\n",
    "\n",
    "To install requirements:\n",
    "\n",
    "```setup\n",
    "conda env create --name env_nifa --file=env_nifa.yml\n",
    "```\n",
    "\n",
    "The FA-GNN code requires a different environement to work which can be installed using this command:\n",
    "```\n",
    "conda env create --name env_FAGNN --file=env_FAGNN.yml\n",
    "```\n",
    "\n",
    "#### Note: This will only output results if your device has a GPU and CUDA is available.\n",
    "\n",
    "## Datasets & Processed files\n",
    "\n",
    "- Due to size limitation, the processed datasets are stored in  [google drive](https://drive.google.com/file/d/1WJYj8K3_H3GmJg-RZeRsJ8Z64gt3qCnq/view?usp=drive_link) as `data.zip`. The datasets include Pokec-z, Pokec-n and DBLP. \n",
    "\n",
    "- Download and unzip the `data.zip`, and the full repository should be as follows:\n",
    "\n",
    "  ```\n",
    "  .\n",
    "  ├── code\n",
    "  ├── data\n",
    "  ├── FA-GNN\n",
    "  ├── FairGNN\n",
    "  ├── FairSIN\n",
    "  ├── FairVGNN\n",
    "  ├── TDGIA\n",
    "  ├── .gitignore\n",
    "  ├── analysis.ipynb\n",
    "  ├── env_FAGNN.yml\n",
    "  ├── env_nifa.yml\n",
    "  ├── README.md\n",
    "  └── results.ipynb\n",
    "  ```"
   ]
  },
  {
   "cell_type": "markdown",
   "metadata": {},
   "source": [
    "## The following cells reproduce the evaluation of the four classic GNN models (Table 1.)"
   ]
  },
  {
   "cell_type": "code",
   "execution_count": null,
   "metadata": {},
   "outputs": [],
   "source": [
    "!conda env\n",
    "\n",
    "%cd code\n",
    "!python main.py --dataset pokec_z --alpha 0.01 --beta 4 --node 102 --edge 50 --n_times 5 --before --device 0 --models 'GCN' 'GraphSAGE' 'APPNP' 'SGC'"
   ]
  },
  {
   "cell_type": "code",
   "execution_count": null,
   "metadata": {},
   "outputs": [],
   "source": [
    "!python main.py --dataset pokec_n --alpha 0.01 --beta 4 --node 87 --edge 50 --n_times 5 --before --device 0 --models 'GCN' 'GraphSAGE' 'APPNP' 'SGC'"
   ]
  },
  {
   "cell_type": "code",
   "execution_count": null,
   "metadata": {},
   "outputs": [],
   "source": [
    "!python main.py --dataset dblp --alpha 0.1 --beta 8 --node 32 --edge 24 --epochs 500 --n_times 5 --before --device 0 --models 'GCN' 'GraphSAGE' 'APPNP' 'SGC'"
   ]
  },
  {
   "cell_type": "markdown",
   "metadata": {},
   "source": [
    "## The following cells reproduce the evaluation of FairGNN (Table 1.)"
   ]
  },
  {
   "cell_type": "code",
   "execution_count": null,
   "metadata": {},
   "outputs": [],
   "source": [
    "%cd ../FairGNN/\n",
    "!python train_fairGNN.py --seed=42 --model=GAT --sens_number=200  --num-hidden=128 --num_layers=2 --dataset=pokec_n --alpha=4 --beta=0.01 --n_times=5 --dropout=0.5\n",
    "!python train_fairGNN.py --seed=42 --model=GAT --sens_number=200 --num-hidden=128 --num_layers=2 --dataset=pokec_n --alpha=4 --beta=0.01 --n_times=5 --dropout=0.5 --poisoned\n"
   ]
  },
  {
   "cell_type": "code",
   "execution_count": null,
   "metadata": {},
   "outputs": [],
   "source": [
    "!python train_fairGNN.py --seed=42 --model=GAT --sens_number=200 --num-hidden=128 --num_layers=2 --dataset=pokec_z --alpha=4 --beta=0.01 --n_times=5 --dropout=0.5\n",
    "!python train_fairGNN.py --seed=42 --model=GAT --sens_number=200 --num-hidden=128 --num_layers=2 --dataset=pokec_z --alpha=4 --beta=0.01 --n_times=5 --dropout=0.5 --poisoned"
   ]
  },
  {
   "cell_type": "code",
   "execution_count": 6,
   "metadata": {},
   "outputs": [],
   "source": [
    "!python train_fairGNN.py --seed=42 --model=GAT --sens_number=200 --num-hidden=128 --num_layers=2 --dataset=dblp --acc=0.93 --alpha=4 --beta=0.01 --n_times=5 --dropout=0.5\n",
    "!python train_fairGNN.py --seed=42 --model=GAT --sens_number=200 --num-hidden=128 --num_layers=2 --dataset=dblp --acc=0.93 --alpha=4 --beta=0.01 --n_times=5 --dropout=0.5 --poisoned"
   ]
  },
  {
   "cell_type": "markdown",
   "metadata": {},
   "source": [
    "## The following cells reproduce the evaluation of FairVGNN (Table 1.)"
   ]
  },
  {
   "cell_type": "code",
   "execution_count": null,
   "metadata": {},
   "outputs": [],
   "source": [
    "%cd ../FairVGNN/\n",
    "!python fairvgnn.py --dataset='pokec_z' --encoder='GCN' --runs=5 --alpha=0.5 --prop='spmm' --hidden=128\n",
    "!python fairvgnn.py --dataset='pokec_z' --encoder='GCN' --runs=5 --alpha=0.5 --prop='spmm' --hidden=128 --poisoned"
   ]
  },
  {
   "cell_type": "code",
   "execution_count": null,
   "metadata": {},
   "outputs": [],
   "source": [
    "!python fairvgnn.py --dataset='pokec_n' --encoder='GCN' --runs=5 --alpha=0.5 --prop='spmm' --hidden=128\n",
    "!python fairvgnn.py --dataset='pokec_n' --encoder='GCN' --runs=5 --alpha=0.5 --prop='spmm' --hidden=128 --poisoned"
   ]
  },
  {
   "cell_type": "code",
   "execution_count": null,
   "metadata": {},
   "outputs": [],
   "source": [
    "!python fairvgnn.py --dataset='dblp' --encoder='GCN' --runs=5 --alpha=0.5 --prop='spmm' --hidden=128\n",
    "!python fairvgnn.py --dataset='dblp' --encoder='GCN' --runs=5 --alpha=0.5 --prop='spmm' --hidden=128 --poisoned"
   ]
  },
  {
   "cell_type": "markdown",
   "metadata": {},
   "source": [
    "## The following cells reproduce the evaluation of FairSIN (Table 1.)"
   ]
  },
  {
   "cell_type": "code",
   "execution_count": null,
   "metadata": {},
   "outputs": [],
   "source": [
    "%cd ../FairSIN/\n",
    "!python in-train.py --dataset='pokec_n' --encoder='GCN' --c_epochs=10 --runs=5 --hidden=128 --epoch=100 --c_lr=0.001 --e_lr=0.001 --d_lr=0.001 --delta=4 --d='yes'\n",
    "!python in-train.py --dataset='pokec_n' --encoder='GCN' --c_epochs=10 --runs=5 --hidden=128 --epoch=100 --c_lr=0.001 --e_lr=0.001 --d_lr=0.001 --delta=4 --d='yes' --poisoned"
   ]
  },
  {
   "cell_type": "code",
   "execution_count": null,
   "metadata": {},
   "outputs": [],
   "source": [
    "!python in-train.py --dataset='pokec_z' --encoder='GCN' --c_epochs=10 --runs=5 --hidden=128 --epoch=100 --c_lr=0.001 --e_lr=0.001 --d_lr=0.001 --delta=4 --d='yes'\n",
    "!python in-train.py --dataset='pokec_z' --encoder='GCN' --c_epochs=10 --runs=5 --hidden=128 --epoch=100 --c_lr=0.001 --e_lr=0.001 --d_lr=0.001 --delta=4 --d='yes' --poisoned"
   ]
  },
  {
   "cell_type": "code",
   "execution_count": null,
   "metadata": {},
   "outputs": [],
   "source": [
    "!python in-train.py --dataset='dblp' --encoder='GCN' --c_epochs=10 --runs=5 --hidden=128 --epoch=100 --c_lr=0.001 --e_lr=0.001 --d_lr=0.001 --delta=4 --d='yes'\n",
    "!python in-train.py --dataset='dblp' --encoder='GCN' --c_epochs=10 --runs=5 --hidden=128 --epoch=100 --c_lr=0.001 --e_lr=0.001 --d_lr=0.001 --delta=4 --d='yes' --poisoned"
   ]
  },
  {
   "cell_type": "markdown",
   "metadata": {},
   "source": [
    "## Use the following cells to pretrain GCN for further use with TDGIA (optional)\n",
    "Note: pretrained models are already provided\n",
    "\n",
    "Uncomment if needed"
   ]
  },
  {
   "cell_type": "code",
   "execution_count": null,
   "metadata": {},
   "outputs": [],
   "source": [
    "# !python main.py --dataset pokec_z --alpha 0.01 --beta 4 --node 102 --edge 50 --n_times 5 --before --device 0 --models 'GCN' --save_params True\n",
    "# !python main.py --dataset pokec_n --alpha 0.01 --beta 4 --node 87 --edge 50 --n_times 5 --before --device 0 --models 'GCN' --save_params True\n",
    "# !python main.py --dataset dblp --alpha 0.1 --beta 8 --node 32 --edge 24 --n_times 5 --epochs 500 --before --device 0 --models 'GCN' --save_params True"
   ]
  },
  {
   "cell_type": "markdown",
   "metadata": {},
   "source": [
    "## Use the following cells to create new injected nodes and edges using the TDGIA baseline attack"
   ]
  },
  {
   "cell_type": "code",
   "execution_count": null,
   "metadata": {},
   "outputs": [],
   "source": [
    "%cd ../TDGIA/\n",
    "!python tdgia.py --dataset pokec_z --add_num 102 --max_connections 50 --models gcn_nifa"
   ]
  },
  {
   "cell_type": "code",
   "execution_count": null,
   "metadata": {},
   "outputs": [],
   "source": [
    "!python tdgia.py --dataset pokec_n --add_num 87 --max_connections 50 --models gcn_nifa"
   ]
  },
  {
   "cell_type": "code",
   "execution_count": null,
   "metadata": {},
   "outputs": [],
   "source": [
    "!python tdgia.py --dataset dblp --add_num 32 --max_connections 24 --models gcn_nifa"
   ]
  },
  {
   "cell_type": "markdown",
   "metadata": {},
   "source": [
    "## The following cells reproduce the results from the TDGIA baseline attack (Table 2.)"
   ]
  },
  {
   "cell_type": "code",
   "execution_count": null,
   "metadata": {},
   "outputs": [],
   "source": [
    "%cd ../code/\n",
    "!python main.py --dataset pokec_z --alpha 0.01 --beta 4 --node 102 --edge 50 --n_times 5 --before --device 0 --models 'GCN' --tdgia True\n"
   ]
  },
  {
   "cell_type": "code",
   "execution_count": null,
   "metadata": {},
   "outputs": [],
   "source": [
    "!python main.py --dataset pokec_n --alpha 0.01 --beta 4 --node 87 --edge 50 --n_times 5 --before --device 0 --models 'GCN' --tdgia True"
   ]
  },
  {
   "cell_type": "code",
   "execution_count": null,
   "metadata": {},
   "outputs": [],
   "source": [
    "!python main.py --dataset dblp --alpha 0.1 --beta 8 --node 32 --edge 24 --n_times 5 --epochs 500 --before --device 0 --models 'GCN' --tdgia True"
   ]
  },
  {
   "cell_type": "markdown",
   "metadata": {},
   "source": [
    "## The following cells reproduce the results from the FA-GNN baseline attack (Table 2.)"
   ]
  },
  {
   "cell_type": "code",
   "execution_count": 14,
   "metadata": {},
   "outputs": [],
   "source": [
    "%cd ../FA-GNN/\n",
    "!python train.py --dataset pokec_z --model gcn --attack_type fair_attack --direction y1s1 --sensitive region --strategy DD --hidden 128 --sens_number 200"
   ]
  },
  {
   "cell_type": "code",
   "execution_count": 15,
   "metadata": {},
   "outputs": [],
   "source": [
    "!python train.py --dataset pokec_n --model gcn --attack_type fair_attack --direction y1s1 --sensitive region --strategy DD --hidden 128 --sens_number 200"
   ]
  },
  {
   "cell_type": "code",
   "execution_count": 16,
   "metadata": {},
   "outputs": [],
   "source": [
    "!python train.py --dataset dblp --model gcn --attack_type fair_attack --direction y1s1 --sensitive gender --strategy DD --hidden 128 --sens_number 1000"
   ]
  },
  {
   "cell_type": "markdown",
   "metadata": {},
   "source": [
    "## The following cells output the results from the Multi-class Sensitive Attribute Dataset (Table 3.)"
   ]
  },
  {
   "cell_type": "code",
   "execution_count": null,
   "metadata": {},
   "outputs": [],
   "source": [
    "%cd ../code/\n",
    "!python main.py --pokec_age_bin --sensitive_attr_mode OvA --dataset pokec_z --alpha 0.01 --beta 4 --node 102 --edge 50 --n_times 5 --before --device 0 --models 'GCN' 'GraphSAGE' 'APPNP' 'SGC'"
   ]
  },
  {
   "cell_type": "code",
   "execution_count": null,
   "metadata": {},
   "outputs": [],
   "source": [
    "!python main.py --pokec_age_bin --sensitive_attr_mode OvA --dataset pokec_n --alpha 0.01 --beta 4 --node 102 --edge 50 --n_times 5 --before --device 0 --models 'GCN' 'GraphSAGE' 'APPNP' 'SGC'"
   ]
  },
  {
   "cell_type": "code",
   "execution_count": null,
   "metadata": {},
   "outputs": [],
   "source": [
    "!python main.py --pokec_age_bin --sensitive_attr_mode OvO --dataset pokec_z --alpha 0.01 --beta 4 --node 102 --edge 50 --n_times 5 --before --device 0 --models 'GCN' 'GraphSAGE' 'APPNP' 'SGC'"
   ]
  },
  {
   "cell_type": "code",
   "execution_count": null,
   "metadata": {},
   "outputs": [],
   "source": [
    "!python main.py --pokec_age_bin --sensitive_attr_mode OvO --dataset pokec_n --alpha 0.01 --beta 4 --node 102 --edge 50 --n_times 5 --before --device 0 --models 'GCN' 'GraphSAGE' 'APPNP' 'SGC'"
   ]
  },
  {
   "cell_type": "markdown",
   "metadata": {},
   "source": [
    "## The upcoming cells re"
   ]
  },
  {
   "cell_type": "code",
   "execution_count": null,
   "metadata": {},
   "outputs": [],
   "source": []
  },
  {
   "cell_type": "code",
   "execution_count": null,
   "metadata": {},
   "outputs": [],
   "source": []
  },
  {
   "cell_type": "code",
   "execution_count": null,
   "metadata": {},
   "outputs": [],
   "source": []
  }
 ],
 "metadata": {
  "kernelspec": {
   "display_name": "Python 3 (ipykernel)",
   "language": "python",
   "name": "python3"
  },
  "language_info": {
   "codemirror_mode": {
    "name": "ipython",
    "version": 3
   },
   "file_extension": ".py",
   "mimetype": "text/x-python",
   "name": "python",
   "nbconvert_exporter": "python",
   "pygments_lexer": "ipython3",
   "version": "3.11.3"
  }
 },
 "nbformat": 4,
 "nbformat_minor": 4
}
